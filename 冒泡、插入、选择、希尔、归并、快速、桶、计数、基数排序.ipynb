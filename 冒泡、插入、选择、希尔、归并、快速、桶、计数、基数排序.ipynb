{
 "cells": [
  {
   "cell_type": "code",
   "execution_count": 8,
   "metadata": {},
   "outputs": [],
   "source": [
    "import time\n",
    "from functools import wraps\n",
    "\n",
    "def timefn(fn):\n",
    "    \"\"\"计算性能的装饰器\"\"\"\n",
    "    @wraps(fn)\n",
    "    def measure_time(*args, **kwargs):\n",
    "        t1 = time.time()\n",
    "        result = fn(*args, **kwargs)\n",
    "        t2 = time.time()\n",
    "        print(f\"@timefn: {fn.__name__} took {t2 - t1: .5f} s\")\n",
    "        return result\n",
    "    return measure_time\n",
    "@timefn\n",
    "def bubble_sort(arr):\n",
    "    #比较\n",
    "    for i in range(len(arr)-1):\n",
    "        flag=False\n",
    "        #交换\n",
    "        for j in range(len(arr)-i-1):\n",
    "            if arr[j]>arr[j+1]:\n",
    "                arr[j],arr[j+1]=arr[j+1],arr[j]\n",
    "                flag=True\n",
    "        if not flag:\n",
    "            return arr\n",
    "    return arr\n",
    "@timefn\n",
    "def insert_sort(arr):\n",
    "    #遍历未排序区间中的元素\n",
    "    for i in range(1,len(arr)):\n",
    "        j=i-1\n",
    "        while j>=0 and arr[i]<arr[j]:\n",
    "            arr[j+1]=arr[j]\n",
    "            j=j-1\n",
    "        arr[j+1]=arr[i]\n",
    "    return arr\n",
    "@timefn\n",
    "def selection_sort(arr):\n",
    "    for i in range(len(arr)):\n",
    "        min_index=i\n",
    "        #找出未排序区间中的最小值\n",
    "        for j in range(i+1,len(arr)):\n",
    "            if arr[min_index]>arr[j]:\n",
    "                min_index=j\n",
    "        #添加到已排序区间的末尾\n",
    "        arr[i],arr[min_index]=arr[min_index],arr[i]\n",
    "    return arr\n",
    "@timefn\n",
    "def shell_sort(arr):\n",
    "    a=len(arr)\n",
    "    gap=a//2\n",
    "    while gap>=1:\n",
    "        for i in range(a):\n",
    "            j=i\n",
    "            while j>=gap and arr[j-gap]>arr[j]:\n",
    "                arr[j-gap],arr[j]=arr[j],arr[j-gap]\n",
    "                j=j-gap\n",
    "        gap=gap//2\n",
    "    return arr"
   ]
  },
  {
   "cell_type": "code",
   "execution_count": 15,
   "metadata": {},
   "outputs": [
    {
     "name": "stdout",
     "output_type": "stream",
     "text": [
      "@timefn: bubble_sort took  0.00260 s\n",
      "[0, 1, 2, 3, 4, 5, 6, 7, 8, 9, 10, 11, 12, 13, 14, 15, 16, 17, 18, 19, 20, 21, 22, 23, 24, 25, 26, 27, 28, 29, 30, 31, 32, 33, 34, 35, 36, 37, 38, 39, 40, 41, 42, 43, 44, 45, 46, 47, 48, 49, 50, 51, 52, 53, 54, 55, 56, 57, 58, 59, 60, 61, 62, 63, 64, 65, 66, 67, 68, 69, 70, 71, 72, 73, 74, 75, 76, 77, 78, 79, 80, 81, 82, 83, 84, 85, 86, 87, 88, 89, 90, 91, 92, 93, 94, 95, 96, 97, 98, 99]\n",
      "@timefn: insert_sort took  0.00007 s\n",
      "[0, 1, 2, 3, 4, 5, 6, 7, 8, 9, 10, 11, 12, 13, 14, 15, 16, 17, 18, 19, 20, 21, 22, 23, 24, 25, 26, 27, 28, 29, 30, 31, 32, 33, 34, 35, 36, 37, 38, 39, 40, 41, 42, 43, 44, 45, 46, 47, 48, 49, 50, 51, 52, 53, 54, 55, 56, 57, 58, 59, 60, 61, 62, 63, 64, 65, 66, 67, 68, 69, 70, 71, 72, 73, 74, 75, 76, 77, 78, 79, 80, 81, 82, 83, 84, 85, 86, 87, 88, 89, 90, 91, 92, 93, 94, 95, 96, 97, 98, 99]\n",
      "@timefn: selection_sort took  0.00119 s\n",
      "[0, 1, 2, 3, 4, 5, 6, 7, 8, 9, 10, 11, 12, 13, 14, 15, 16, 17, 18, 19, 20, 21, 22, 23, 24, 25, 26, 27, 28, 29, 30, 31, 32, 33, 34, 35, 36, 37, 38, 39, 40, 41, 42, 43, 44, 45, 46, 47, 48, 49, 50, 51, 52, 53, 54, 55, 56, 57, 58, 59, 60, 61, 62, 63, 64, 65, 66, 67, 68, 69, 70, 71, 72, 73, 74, 75, 76, 77, 78, 79, 80, 81, 82, 83, 84, 85, 86, 87, 88, 89, 90, 91, 92, 93, 94, 95, 96, 97, 98, 99]\n",
      "@timefn: shell_sort took  0.00023 s\n",
      "[0, 1, 2, 3, 4, 5, 6, 7, 8, 9, 10, 11, 12, 13, 14, 15, 16, 17, 18, 19, 20, 21, 22, 23, 24, 25, 26, 27, 28, 29, 30, 31, 32, 33, 34, 35, 36, 37, 38, 39, 40, 41, 42, 43, 44, 45, 46, 47, 48, 49, 50, 51, 52, 53, 54, 55, 56, 57, 58, 59, 60, 61, 62, 63, 64, 65, 66, 67, 68, 69, 70, 71, 72, 73, 74, 75, 76, 77, 78, 79, 80, 81, 82, 83, 84, 85, 86, 87, 88, 89, 90, 91, 92, 93, 94, 95, 96, 97, 98, 99]\n"
     ]
    }
   ],
   "source": [
    "import random\n",
    "arr=list(range(100))\n",
    "random.shuffle(arr)\n",
    "print(bubble_sort(arr))\n",
    "print(insert_sort(arr))\n",
    "print(selection_sort(arr))\n",
    "print(shell_sort(arr))"
   ]
  },
  {
   "cell_type": "code",
   "execution_count": 96,
   "metadata": {},
   "outputs": [],
   "source": [
    "#归并排序\n",
    "def merge(s1, s2):\n",
    "    #合并函数需要申请额外的存储空间\n",
    "    tmp= []\n",
    "    i = j = 0\n",
    "    while i < len(s1) and j < len(s2):\n",
    "        if s1[i] <=s2[j]:\n",
    "            tmp.append(s1[i])\n",
    "            i += 1\n",
    "        else:\n",
    "            tmp.append(s2[j])\n",
    "            j += 1\n",
    "    if i==len(s1):\n",
    "        tmp.extend(s2[j:])\n",
    "    else:\n",
    "        tmp.extend(s1[i:])\n",
    "    return tmp\n",
    "def merge_sort(s):\n",
    "    if len(s)<2:\n",
    "        return s\n",
    "    else:\n",
    "        mid = len(s)//2\n",
    "        s1=merge_sort(s[:mid])\n",
    "        s2=merge_sort(s[mid:])\n",
    "        return merge(s1,s2)\n",
    "#快速排序（原地分区函数）\n",
    "def partition(arr,low,high):\n",
    "    i=low-1 #最小元素索引\n",
    "    pivot=arr[high] #将最后一个元素作为分区点\n",
    "    for j in range(low,high):\n",
    "        if arr[j]<=pivot:\n",
    "            i=i+1\n",
    "            arr[i],arr[j]=arr[j],arr[i]\n",
    "    arr[i+1],arr[high]=arr[high],arr[i+1]\n",
    "    return (i+1)\n",
    "def quick_sort(arr,low,high):\n",
    "    if low<high:\n",
    "        p=partition(arr,low,high)\n",
    "        quick_sort(arr,low,p-1)\n",
    "        quick_sort(arr,p+1,high)"
   ]
  },
  {
   "cell_type": "code",
   "execution_count": 97,
   "metadata": {},
   "outputs": [
    {
     "name": "stdout",
     "output_type": "stream",
     "text": [
      "[73, 41, 39, 46, 91, 63, 70, 43, 27, 92, 17, 56, 2, 0, 58, 28, 51, 98, 13, 62, 61, 75, 59, 10, 31, 26, 40, 14, 94, 20, 72, 93, 74, 34, 76, 24, 49, 36, 96, 65, 23, 35, 99, 45, 67, 18, 38, 50, 71, 52, 11, 47, 9, 85, 4, 8, 60, 68, 22, 88, 89, 64, 78, 12, 32, 6, 37, 5, 69, 80, 21, 48, 66, 1, 57, 97, 82, 84, 25, 87, 3, 42, 55, 16, 7, 90, 30, 54, 77, 83, 81, 29, 79, 33, 86, 95, 15, 53, 44, 19]\n",
      "[0, 1, 2, 3, 4, 5, 6, 7, 8, 9, 10, 11, 12, 13, 14, 15, 16, 17, 18, 19, 20, 21, 22, 23, 24, 25, 26, 27, 28, 29, 30, 31, 32, 33, 34, 35, 36, 37, 38, 39, 40, 41, 42, 43, 44, 45, 46, 47, 48, 49, 50, 51, 52, 53, 54, 55, 56, 57, 58, 59, 60, 61, 62, 63, 64, 65, 66, 67, 68, 69, 70, 71, 72, 73, 74, 75, 76, 77, 78, 79, 80, 81, 82, 83, 84, 85, 86, 87, 88, 89, 90, 91, 92, 93, 94, 95, 96, 97, 98, 99]\n",
      "[0, 1, 2, 3, 4, 5, 6, 7, 8, 9, 10, 11, 12, 13, 14, 15, 16, 17, 18, 19, 20, 21, 22, 23, 24, 25, 26, 27, 28, 29, 30, 31, 32, 33, 34, 35, 36, 37, 38, 39, 40, 41, 42, 43, 44, 45, 46, 47, 48, 49, 50, 51, 52, 53, 54, 55, 56, 57, 58, 59, 60, 61, 62, 63, 64, 65, 66, 67, 68, 69, 70, 71, 72, 73, 74, 75, 76, 77, 78, 79, 80, 81, 82, 83, 84, 85, 86, 87, 88, 89, 90, 91, 92, 93, 94, 95, 96, 97, 98, 99]\n"
     ]
    }
   ],
   "source": [
    "import random\n",
    "arr=list(range(100))\n",
    "random.shuffle(arr)\n",
    "print(arr)\n",
    "print(merge_sort(arr))\n",
    "quick_sort(arr,0,99)\n",
    "print(arr)"
   ]
  },
  {
   "cell_type": "code",
   "execution_count": 124,
   "metadata": {},
   "outputs": [],
   "source": [
    "def bucket_sort(arr):\n",
    "    #1、创建n个空桶：桶个数=数据个数\n",
    "    new_list=[[] for i in range(len(arr))]\n",
    "    #2、将待排数据分到几个有序的桶里\n",
    "    for i in arr:\n",
    "        index=int(i-min(arr))\n",
    "        new_list[index].append(i)\n",
    "    #3、桶内排序\n",
    "    for i in range(len(arr)):\n",
    "        new_list[i].sort()\n",
    "    #4、产生新的排序后的列表\n",
    "    index=0\n",
    "    for i in range(len(arr)):\n",
    "        for j in range(len(new_list[i])):\n",
    "            arr[index]=new_list[i][j]\n",
    "            index+=1\n",
    "    return arr"
   ]
  },
  {
   "cell_type": "code",
   "execution_count": 125,
   "metadata": {},
   "outputs": [
    {
     "name": "stdout",
     "output_type": "stream",
     "text": [
      "[45, 82, 27, 62, 37, 57, 24, 26, 6, 39, 14, 52, 12, 68, 72, 48, 9, 89, 29, 59, 86, 65, 20, 1, 31, 75, 47, 84, 61, 7, 69, 33, 63, 53, 3, 25, 92, 54, 87, 32, 18, 83, 42, 16, 70, 99, 74, 58, 11, 17, 23, 76, 56, 91, 43, 5, 19, 41, 79, 22, 2, 38, 30, 90, 40, 95, 88, 60, 77, 0, 28, 96, 97, 51, 10, 73, 71, 46, 44, 98, 8, 50, 93, 80, 67, 21, 78, 34, 81, 66, 55, 15, 94, 64, 49, 13, 4, 35, 36, 85]\n",
      "[0, 1, 2, 3, 4, 5, 6, 7, 8, 9, 10, 11, 12, 13, 14, 15, 16, 17, 18, 19, 20, 21, 22, 23, 24, 25, 26, 27, 28, 29, 30, 31, 32, 33, 34, 35, 36, 37, 38, 39, 40, 41, 42, 43, 44, 45, 46, 47, 48, 49, 50, 51, 52, 53, 54, 55, 56, 57, 58, 59, 60, 61, 62, 63, 64, 65, 66, 67, 68, 69, 70, 71, 72, 73, 74, 75, 76, 77, 78, 79, 80, 81, 82, 83, 84, 85, 86, 87, 88, 89, 90, 91, 92, 93, 94, 95, 96, 97, 98, 99]\n"
     ]
    }
   ],
   "source": [
    "import random\n",
    "arr=list(range(100))\n",
    "random.shuffle(arr)\n",
    "print(arr)\n",
    "print(bucket_sort(arr))"
   ]
  },
  {
   "cell_type": "code",
   "execution_count": 129,
   "metadata": {},
   "outputs": [],
   "source": [
    "def counting_sort(a,k):\n",
    "    n=len(a)\n",
    "    #设置输出序列并初始化为0\n",
    "    b=[0 for i in range(n)]\n",
    "    #设置计数序列并初始化为0\n",
    "    c=[0 for i in range(k+1)]\n",
    "    #计数\n",
    "    for i in a:\n",
    "        c[i]=c[i]+1\n",
    "    #顺序求和\n",
    "    for i in range(1,len(c)):\n",
    "        c[i]=c[i]+c[i-1]\n",
    "    #排序\n",
    "    for i in a:\n",
    "        b[c[i]-1]=i\n",
    "        c[i]=c[i]-1\n",
    "    return b"
   ]
  },
  {
   "cell_type": "code",
   "execution_count": 130,
   "metadata": {},
   "outputs": [
    {
     "name": "stdout",
     "output_type": "stream",
     "text": [
      "[43, 11, 32, 87, 78, 41, 52, 12, 44, 82, 55, 63, 56, 25, 76, 67, 27, 9, 68, 83, 64, 42, 94, 61, 45, 86, 93, 20, 70, 18, 34, 22, 8, 51, 28, 97, 89, 49, 48, 79, 62, 85, 0, 15, 37, 73, 54, 6, 39, 31, 46, 36, 2, 75, 16, 1, 69, 3, 26, 98, 29, 14, 30, 7, 17, 95, 5, 92, 21, 59, 23, 81, 71, 40, 84, 74, 72, 35, 50, 38, 60, 90, 19, 91, 77, 13, 33, 96, 99, 53, 10, 88, 57, 65, 80, 4, 66, 58, 47, 24]\n",
      "[0, 1, 2, 3, 4, 5, 6, 7, 8, 9, 10, 11, 12, 13, 14, 15, 16, 17, 18, 19, 20, 21, 22, 23, 24, 25, 26, 27, 28, 29, 30, 31, 32, 33, 34, 35, 36, 37, 38, 39, 40, 41, 42, 43, 44, 45, 46, 47, 48, 49, 50, 51, 52, 53, 54, 55, 56, 57, 58, 59, 60, 61, 62, 63, 64, 65, 66, 67, 68, 69, 70, 71, 72, 73, 74, 75, 76, 77, 78, 79, 80, 81, 82, 83, 84, 85, 86, 87, 88, 89, 90, 91, 92, 93, 94, 95, 96, 97, 98, 99]\n"
     ]
    }
   ],
   "source": [
    "import random\n",
    "arr=list(range(100))\n",
    "random.shuffle(arr)\n",
    "print(arr)\n",
    "print(counting_sort(arr,max(arr)))"
   ]
  },
  {
   "cell_type": "code",
   "execution_count": 141,
   "metadata": {},
   "outputs": [],
   "source": [
    "def radix_sort(a):\n",
    "    #记录最大值位数\n",
    "    n=len(str(max(a)))\n",
    "    #循环n轮\n",
    "    for i in range(n):\n",
    "        bucket_list=[[] for i in range(10)]\n",
    "        for j in a:\n",
    "            bucket_list[j//(10**i)%10].append(j)\n",
    "        a=[j for i in bucket_list for j in i]\n",
    "    return a\n",
    "            "
   ]
  },
  {
   "cell_type": "code",
   "execution_count": 142,
   "metadata": {},
   "outputs": [
    {
     "name": "stdout",
     "output_type": "stream",
     "text": [
      "[85, 77, 78, 28, 1, 64, 93, 19, 75, 22, 42, 73, 48, 20, 86, 70, 37, 29, 5, 44, 30, 56, 97, 41, 16, 87, 24, 25, 18, 50, 32, 88, 65, 84, 23, 71, 69, 59, 99, 4, 2, 3, 35, 57, 38, 12, 54, 31, 72, 45, 79, 53, 90, 89, 49, 66, 40, 52, 51, 9, 39, 92, 83, 67, 95, 63, 62, 61, 6, 82, 13, 26, 8, 15, 33, 46, 96, 27, 43, 60, 36, 55, 74, 10, 14, 98, 80, 34, 47, 91, 21, 94, 58, 68, 0, 81, 17, 7, 11, 76]\n",
      "[0, 1, 2, 3, 4, 5, 6, 7, 8, 9, 10, 11, 12, 13, 14, 15, 16, 17, 18, 19, 20, 21, 22, 23, 24, 25, 26, 27, 28, 29, 30, 31, 32, 33, 34, 35, 36, 37, 38, 39, 40, 41, 42, 43, 44, 45, 46, 47, 48, 49, 50, 51, 52, 53, 54, 55, 56, 57, 58, 59, 60, 61, 62, 63, 64, 65, 66, 67, 68, 69, 70, 71, 72, 73, 74, 75, 76, 77, 78, 79, 80, 81, 82, 83, 84, 85, 86, 87, 88, 89, 90, 91, 92, 93, 94, 95, 96, 97, 98, 99]\n"
     ]
    }
   ],
   "source": [
    "import random\n",
    "arr=list(range(100))\n",
    "random.shuffle(arr)\n",
    "print(arr)\n",
    "print(radix_sort(arr))"
   ]
  },
  {
   "cell_type": "code",
   "execution_count": null,
   "metadata": {},
   "outputs": [],
   "source": []
  }
 ],
 "metadata": {
  "kernelspec": {
   "display_name": "Python 3",
   "language": "python",
   "name": "python3"
  },
  "language_info": {
   "codemirror_mode": {
    "name": "ipython",
    "version": 3
   },
   "file_extension": ".py",
   "mimetype": "text/x-python",
   "name": "python",
   "nbconvert_exporter": "python",
   "pygments_lexer": "ipython3",
   "version": "3.6.8"
  },
  "toc": {
   "base_numbering": 1,
   "nav_menu": {},
   "number_sections": true,
   "sideBar": true,
   "skip_h1_title": false,
   "title_cell": "Table of Contents",
   "title_sidebar": "Contents",
   "toc_cell": false,
   "toc_position": {},
   "toc_section_display": true,
   "toc_window_display": false
  }
 },
 "nbformat": 4,
 "nbformat_minor": 4
}
