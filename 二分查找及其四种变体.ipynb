{
 "cells": [
  {
   "cell_type": "code",
   "execution_count": 14,
   "metadata": {},
   "outputs": [],
   "source": [
    "#在不含重复元素的有序数组中查找值等于给定值的元素\n",
    "def binary_search(arr,val):\n",
    "    low=0\n",
    "    high=len(arr)-1\n",
    "    while low<=high:\n",
    "        mid=low+((high-low)>>1)\n",
    "        if arr[mid]<val:\n",
    "            low=mid+1\n",
    "        elif arr[mid]>val:\n",
    "            high=mid-1\n",
    "        else:\n",
    "            return mid\n",
    "    return None\n",
    "#变体1：查找第一个值等于给定值的元素\n",
    "def binary_searchfirst(arr,val):\n",
    "    low=0\n",
    "    high=len(arr)-1\n",
    "    while low<=high:\n",
    "        mid=low+((high-low)>>1)\n",
    "        if arr[mid]<val:\n",
    "            low=mid+1\n",
    "        elif arr[mid]>val:\n",
    "            high=mid-1\n",
    "        else:\n",
    "            if (mid==0) or (arr[mid-1]!=val):\n",
    "                return mid\n",
    "            else:\n",
    "                high=mid-1\n",
    "    return None\n",
    "#变体2：查找最后一个值等于给定值的元素\n",
    "def binary_searchlast(arr,val):\n",
    "    low=0\n",
    "    n=len(arr)\n",
    "    high=len(arr)-1\n",
    "    while low<=high:\n",
    "        mid=low+((high-low)>>1)\n",
    "        if arr[mid]<val:\n",
    "            low=mid+1\n",
    "        elif arr[mid]>val:\n",
    "            high=mid-1\n",
    "        else:\n",
    "            if(mid==n-1)or(arr[mid+1]!=val):\n",
    "                return mid\n",
    "            else:\n",
    "                low=mid+1\n",
    "    return None\n",
    "#变体3：查找第一个大于等于给定值的元素\n",
    "def binary_searchgreaterequal(arr,val):\n",
    "    low=0\n",
    "    high=len(arr)-1\n",
    "    while low<=high:\n",
    "        mid=low+((high-low)>>1)\n",
    "        if arr[mid]>=val:\n",
    "            if(mid==0)or(arr[mid-1]<val):\n",
    "                return mid\n",
    "            else:\n",
    "                high=mid-1\n",
    "        else:\n",
    "            low=mid+1\n",
    "    return None\n",
    "#变体4：查找最后一个小于等于给定值的元素 应用：查询ip归属地\n",
    "def binary_searchlessequal(arr,val):\n",
    "    low=0\n",
    "    n=len(arr)\n",
    "    high=len(arr)-1\n",
    "    while low<=high:\n",
    "        mid=low+((high-low)>>1)\n",
    "        if arr[mid]<=val:\n",
    "            if(mid==n-1)or(arr[mid+1]>val):\n",
    "                return mid\n",
    "            else:\n",
    "                low=mid+1\n",
    "        else:\n",
    "            high=mid-1\n",
    "    return None\n"
   ]
  },
  {
   "cell_type": "code",
   "execution_count": 15,
   "metadata": {},
   "outputs": [
    {
     "name": "stdout",
     "output_type": "stream",
     "text": [
      "7\n",
      "5\n",
      "7\n",
      "2\n",
      "1\n"
     ]
    }
   ],
   "source": [
    "arr1=[1,3,4,5,6,8,8,8,11,18]\n",
    "val1=8\n",
    "arr2=[3,4,6,7,10] \n",
    "val2=5\n",
    "print(binary_search(arr1,val1))\n",
    "print(binary_searchfirst(arr1,val1))\n",
    "print(binary_searchlast(arr1,val1))\n",
    "print(binary_searchgreaterequal(arr2,val2))\n",
    "print(binary_searchlessequal(arr2,val2))"
   ]
  },
  {
   "cell_type": "code",
   "execution_count": null,
   "metadata": {},
   "outputs": [],
   "source": []
  }
 ],
 "metadata": {
  "kernelspec": {
   "display_name": "Python 3",
   "language": "python",
   "name": "python3"
  },
  "language_info": {
   "codemirror_mode": {
    "name": "ipython",
    "version": 3
   },
   "file_extension": ".py",
   "mimetype": "text/x-python",
   "name": "python",
   "nbconvert_exporter": "python",
   "pygments_lexer": "ipython3",
   "version": "3.6.8"
  },
  "toc": {
   "base_numbering": 1,
   "nav_menu": {},
   "number_sections": true,
   "sideBar": true,
   "skip_h1_title": false,
   "title_cell": "Table of Contents",
   "title_sidebar": "Contents",
   "toc_cell": false,
   "toc_position": {},
   "toc_section_display": true,
   "toc_window_display": false
  }
 },
 "nbformat": 4,
 "nbformat_minor": 4
}
